{
 "cells": [
  {
   "cell_type": "code",
   "execution_count": 1,
   "metadata": {},
   "outputs": [],
   "source": [
    "import numpy as np\n",
    "import matplotlib.pyplot as pl\n",
    "import seaborn as sns\n",
    "import os\n",
    "from scipy.optimize import curve_fit\n",
    "from decimal import Decimal\n",
    "\n",
    "sns.set_style('white')"
   ]
  },
  {
   "cell_type": "code",
   "execution_count": 2,
   "metadata": {},
   "outputs": [],
   "source": [
    "cwd = os.getcwd()\n",
    "foldir = 'runtime'\n",
    "datadir = os.path.join(cwd, foldir)"
   ]
  },
  {
   "cell_type": "code",
   "execution_count": 3,
   "metadata": {},
   "outputs": [
    {
     "name": "stdout",
     "output_type": "stream",
     "text": [
      "[0.001422 0.171007 0.158987 0.16171  0.161055 0.166569]\n",
      "[0.001137 0.181962 0.184448 0.171809 0.18159  0.183575]\n",
      "[0.001023 0.471687 0.509168 0.442237 0.432506 0.45782 ]\n",
      "[1.340000e-03 3.054663e+00 3.819803e+00 3.806757e+00 3.855357e+00\n",
      " 4.121478e+00]\n"
     ]
    }
   ],
   "source": [
    "num_scat = 1\n",
    "time_data = np.zeros(shape=(4, num_scat, 6))\n",
    "count_numphotons = 0\n",
    "for num_photons in np.logspace(2, 5, num=4):\n",
    "    for scattering_degree in np.arange(0, num_scat):\n",
    "        file = os.path.join(datadir, f'runtime-{num_photons}-{scattering_degree}.npy')\n",
    "        time_data[count_numphotons, scattering_degree] = np.load(file)\n",
    "        print(time_data[count_numphotons, scattering_degree])\n",
    "    count_numphotons += 1"
   ]
  },
  {
   "cell_type": "code",
   "execution_count": 4,
   "metadata": {},
   "outputs": [
    {
     "name": "stdout",
     "output_type": "stream",
     "text": [
      "(4, 1, 6)\n"
     ]
    }
   ],
   "source": [
    "ave_time = np.average(time_data[:, 0, 1:], axis=1)\n",
    "std_time = np.std(time_data[:, 0, 1:], axis=1)\n",
    "medium_init_time = time_data[:, 0, 0]\n",
    "\n",
    "print(time_data.shape)"
   ]
  },
  {
   "cell_type": "code",
   "execution_count": 5,
   "metadata": {},
   "outputs": [
    {
     "data": {
      "text/plain": [
       "Text(0.5,1,'R = 0 \\n (1 core, average of 10 trials)')"
      ]
     },
     "execution_count": 5,
     "metadata": {},
     "output_type": "execute_result"
    },
    {
     "data": {
      "image/png": "[encoded data removed]",
      "text/plain": [
       "<Figure size 432x288 with 1 Axes>"
      ]
     },
     "metadata": {},
     "output_type": "display_data"
    }
   ],
   "source": [
    "# pl.loglog(time_data[:, 0, 0], time_data[:, 0, 2], '.')\n",
    "ax = pl.subplot()\n",
    "ax.set_xscale(\"log\", nonposx='clip')\n",
    "# ax.set_yscale(\"log\", nonposy='clip')\n",
    "x = np.logspace(2,5,4)\n",
    "xp = np.logspace(1,5.1,100)\n",
    "y = ave_time\n",
    "yerr = std_time\n",
    "\n",
    "allshit = np.polyfit(x, y, 2, full=True)\n",
    "fit = allshit[0]\n",
    "fitfunc = np.poly1d(fit)\n",
    "\n",
    "fit_consts = []\n",
    "for i in range(len(fit)):\n",
    "    fit_consts.append(f'{Decimal(fit[i]):.2E}')\n",
    "fit_eq = fit_consts[0] + r'$x^2 +$ ' + fit_consts[1] + r'$x +$ ' + fit_consts[2]\n",
    "pl.errorbar(x, y, yerr=yerr, fmt='x')\n",
    "pl.plot(xp, fitfunc(xp), label=fit_eq)\n",
    "pl.xlabel('Number of photons')\n",
    "pl.ylabel('CPU time (s)')\n",
    "pl.legend(loc='best')\n",
    "pl.title('R = 0 \\n (1 core, average of 10 trials)')\n",
    "\n",
    "# convert to seconds"
   ]
  },
  {
   "cell_type": "code",
   "execution_count": 6,
   "metadata": {},
   "outputs": [
    {
     "name": "stdout",
     "output_type": "stream",
     "text": [
      "[0.000943 0.434263 0.441742 0.411842 0.416108 0.405008]\n",
      "[5.975049 2.150744 1.780663 1.829981 2.10938  2.148626]\n",
      "[86.879883  2.860067  2.949404  2.856462  2.818969  2.854688]\n",
      "[510.640542   4.155644   4.202457   4.283198   4.002184   4.031677]\n",
      "[1659.950074    5.80602     7.516002    7.02847     6.167227    5.743207]\n"
     ]
    }
   ],
   "source": [
    "cwd = os.getcwd()\n",
    "foldir = ''\n",
    "# datadir = os.path.join(cwd, foldir)\n",
    "num_scat = 5\n",
    "time_data2 = np.zeros(shape=(num_scat, 6))\n",
    "count_numphotons = 0\n",
    "for scattering_degree in np.arange(0, num_scat):\n",
    "    file = os.path.join(datadir, f'runtime-N{1E4}-{scattering_degree*2}.npy')\n",
    "    print(np.load(file))\n",
    "    time_data2[scattering_degree] = np.load(file)\n",
    "count_numphotons += 1"
   ]
  },
  {
   "cell_type": "code",
   "execution_count": 7,
   "metadata": {},
   "outputs": [
    {
     "data": {
      "text/plain": [
       "array([[9.43000000e-04, 4.34263000e-01, 4.41742000e-01, 4.11842000e-01,\n",
       "        4.16108000e-01, 4.05008000e-01],\n",
       "       [5.97504900e+00, 2.15074400e+00, 1.78066300e+00, 1.82998100e+00,\n",
       "        2.10938000e+00, 2.14862600e+00],\n",
       "       [8.68798830e+01, 2.86006700e+00, 2.94940400e+00, 2.85646200e+00,\n",
       "        2.81896900e+00, 2.85468800e+00],\n",
       "       [5.10640542e+02, 4.15564400e+00, 4.20245700e+00, 4.28319800e+00,\n",
       "        4.00218400e+00, 4.03167700e+00],\n",
       "       [1.65995007e+03, 5.80602000e+00, 7.51600200e+00, 7.02847000e+00,\n",
       "        6.16722700e+00, 5.74320700e+00]])"
      ]
     },
     "execution_count": 7,
     "metadata": {},
     "output_type": "execute_result"
    }
   ],
   "source": [
    "time_data2"
   ]
  },
  {
   "cell_type": "code",
   "execution_count": 8,
   "metadata": {},
   "outputs": [],
   "source": [
    "ave_time2 = np.average(time_data2[:, 1:], axis=1)\n",
    "std_time2 = np.std(time_data2[:, 1:], axis=1)\n",
    "medium_init_time = time_data2[:, 0]"
   ]
  },
  {
   "cell_type": "code",
   "execution_count": 9,
   "metadata": {},
   "outputs": [
    {
     "data": {
      "text/plain": [
       "Text(0.5,1,'4 cores, 10000 photons, average of 5 trials')"
      ]
     },
     "execution_count": 9,
     "metadata": {},
     "output_type": "execute_result"
    },
    {
     "data": {
      "image/png": "[encoded data removed]",
      "text/plain": [
       "<Figure size 432x288 with 1 Axes>"
      ]
     },
     "metadata": {},
     "output_type": "display_data"
    }
   ],
   "source": [
    "ax = pl.subplot()\n",
    "# ax.set_xscale(\"log\", nonposx='clip')\n",
    "# ax.set_yscale(\"log\", nonposy='clip')\n",
    "x = np.arange(0, 9, 2)\n",
    "xp = np.linspace(0, 9, 100)\n",
    "y = ave_time2\n",
    "yerr = std_time2\n",
    "\n",
    "allshit1 = np.polyfit(x, y, 2, full=True)\n",
    "fit1 = allshit1[0]\n",
    "fitfunc1 = np.poly1d(fit1)\n",
    "\n",
    "allshit2 = np.polyfit(x, medium_init_time, 2, full=True)\n",
    "fit2 = allshit2[0]\n",
    "fitfunc2 = np.poly1d(fit2)\n",
    "\n",
    "\n",
    "fit_consts1 = []\n",
    "for i in range(len(fit1)):\n",
    "    fit_consts1.append(f'{Decimal(fit1[i]):.2E}')\n",
    "fit_eq1 = fit_consts1[0] + r'$x^2 +$ ' + fit_consts1[1] + r'$x +$ ' + fit_consts1[2]\n",
    "\n",
    "fit_consts2 = []\n",
    "for i in range(len(fit2)):\n",
    "    fit_consts2.append(f'{Decimal(fit2[i]):.2E}')\n",
    "fit_eq2 = fit_consts2[0] + r'$x^2 +$ ' + fit_consts2[1] + r'$x +$ ' + fit_consts2[2]\n",
    "\n",
    "pl.errorbar(x, y, yerr=yerr, fmt='x', label='Ray scattering')\n",
    "pl.plot(xp, fitfunc1(xp), label=fit_eq1)\n",
    "pl.plot(x, medium_init_time, '.', label='Medium initialization')\n",
    "pl.plot(xp, fitfunc2(xp), label=fit_eq2)\n",
    "pl.xlabel(r'Degree of scattering ($R = h/d_s$)')\n",
    "pl.ylabel('CPU time (s)')\n",
    "pl.legend(loc='best')\n",
    "pl.title('4 cores, 10000 photons, average of 5 trials')\n",
    "## do for higher degrees of scattering\n",
    "\n"
   ]
  },
  {
   "cell_type": "code",
   "execution_count": null,
   "metadata": {},
   "outputs": [],
   "source": []
  }
 ],
 "metadata": {
  "kernelspec": {
   "display_name": "Python 3.7.0",
   "language": "python",
   "name": "python3.7.0"
  },
  "language_info": {
   "codemirror_mode": {
    "name": "ipython",
    "version": 3
   },
   "file_extension": ".py",
   "mimetype": "text/x-python",
   "name": "python",
   "nbconvert_exporter": "python",
   "pygments_lexer": "ipython3",
   "version": "3.7.0"
  }
 },
 "nbformat": 4,
 "nbformat_minor": 2
}
