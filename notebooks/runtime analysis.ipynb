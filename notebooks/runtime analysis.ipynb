{
 "cells": [
  {
   "cell_type": "code",
   "execution_count": 1,
   "metadata": {},
   "outputs": [],
   "source": [
    "import numpy as np\n",
    "import matplotlib.pyplot as pl\n",
    "import seaborn as sns\n",
    "import os\n",
    "import pandas as pd\n",
    "from scipy.optimize import curve_fit\n",
    "from decimal import Decimal\n",
    "import matplotlib.style as mplstyle\n",
    "\n",
    "mplstyle.use('seaborn')\n",
    "sns.set_style(\"dark\", {'axes.grid' : True})"
   ]
  },
  {
   "cell_type": "code",
   "execution_count": 2,
   "metadata": {},
   "outputs": [],
   "source": [
    "def polyfit(x, y, degree):\n",
    "    coeffs = np.polyfit(x, y, degree)\n",
    "\n",
    "    # r-squared\n",
    "    p = np.poly1d(coeffs)\n",
    "    \n",
    "    # fit values, and mean\n",
    "    yhat = p(x)                         # or [p(z) for z in x]\n",
    "    ybar = np.sum(y)/len(y)          # or sum(y)/len(y)\n",
    "    ssreg = np.sum((yhat-ybar)**2)   # or sum([ (yihat - ybar)**2 for yihat in yhat])\n",
    "    sstot = np.sum((y - ybar)**2)    # or sum([ (yi - ybar)**2 for yi in y])\n",
    "    r2 = ssreg / sstot\n",
    "    \n",
    "    return coeffs, p, r2"
   ]
  },
  {
   "cell_type": "code",
   "execution_count": 3,
   "metadata": {},
   "outputs": [],
   "source": [
    "def fit_and_plot(x, y, yerr, degree, xlabel, ylabel, title, savefig=False):\n",
    "    coeffs, p, r2 = polyfit(x, y, degree=degree)\n",
    "    print(coeffs, r2)\n",
    "\n",
    "    xp = np.logspace(1,5,100)\n",
    "    label_eq = ''\n",
    "    for i in range(0, len(coeffs)):\n",
    "        label_eq += f'{coeffs[i]:.2E}'\n",
    "        if i < len(coeffs)-1:\n",
    "            label_eq += f'$x^{len(coeffs)-1-i}$ + '\n",
    "    label_eq += f'\\n $R^2$ = {r2:.4f}'\n",
    "\n",
    "    ax = pl.subplot()\n",
    "    ax.set_xscale(\"log\", nonposx='clip')\n",
    "    ax.set_yscale(\"log\", nonposy='clip')\n",
    "    pl.errorbar(x, y, yerr=yerr, fmt='o', color='C0')\n",
    "    pl.plot(xp, p(xp), label=label_eq, color='C0', alpha=0.7)\n",
    "    pl.xlabel(xlabel)\n",
    "    pl.ylabel(ylabel)\n",
    "    pl.legend(loc='best')\n",
    "    pl.title(title)\n",
    "    \n",
    "    if savefig is True:\n",
    "        pl.savefig(f'{title}.png', dpi=300)"
   ]
  },
  {
   "cell_type": "code",
   "execution_count": 4,
   "metadata": {},
   "outputs": [],
   "source": [
    "def open_runtimecsv(dirs):\n",
    "    temp = []\n",
    "    cwd = os.getcwd()\n",
    "    filename = 'runtime-summary.csv'\n",
    "    indices = np.arange(0, 100, 1)\n",
    "    for foldir in dirs:\n",
    "        datadir = os.path.join(cwd, foldir)\n",
    "        fullpath = os.path.join(datadir, filename)\n",
    "        df = pd.read_csv(fullpath, delimiter='\\t')\n",
    "        temp.append(df)\n",
    "    if len(temp) > 0:\n",
    "        df = pd.concat(temp)\n",
    "    return df"
   ]
  },
  {
   "cell_type": "code",
   "execution_count": 5,
   "metadata": {},
   "outputs": [],
   "source": [
    "dirs = ['anisotropic', 'isotropic']\n",
    "df1 = open_runtimecsv(dirs)"
   ]
  },
  {
   "cell_type": "code",
   "execution_count": 6,
   "metadata": {},
   "outputs": [
    {
     "data": {
      "text/html": [
       "<div>\n",
       "<style scoped>\n",
       "    .dataframe tbody tr th:only-of-type {\n",
       "        vertical-align: middle;\n",
       "    }\n",
       "\n",
       "    .dataframe tbody tr th {\n",
       "        vertical-align: top;\n",
       "    }\n",
       "\n",
       "    .dataframe thead th {\n",
       "        text-align: right;\n",
       "    }\n",
       "</style>\n",
       "<table border=\"1\" class=\"dataframe\">\n",
       "  <thead>\n",
       "    <tr style=\"text-align: right;\">\n",
       "      <th></th>\n",
       "      <th>Unnamed: 0</th>\n",
       "      <th>photons</th>\n",
       "      <th>steps</th>\n",
       "      <th>scatterers</th>\n",
       "      <th>process runtime mean</th>\n",
       "      <th>actual runtime mean</th>\n",
       "      <th>process runtime std</th>\n",
       "      <th>actual runtime std</th>\n",
       "    </tr>\n",
       "  </thead>\n",
       "  <tbody>\n",
       "    <tr>\n",
       "      <th>0</th>\n",
       "      <td>0</td>\n",
       "      <td>30000.0</td>\n",
       "      <td>100.0</td>\n",
       "      <td>0.0</td>\n",
       "      <td>0.948301</td>\n",
       "      <td>25.125826</td>\n",
       "      <td>0.017783</td>\n",
       "      <td>1.547199</td>\n",
       "    </tr>\n",
       "    <tr>\n",
       "      <th>0</th>\n",
       "      <td>0</td>\n",
       "      <td>30000.0</td>\n",
       "      <td>100.0</td>\n",
       "      <td>0.0</td>\n",
       "      <td>1.179117</td>\n",
       "      <td>42.627565</td>\n",
       "      <td>0.024759</td>\n",
       "      <td>0.153437</td>\n",
       "    </tr>\n",
       "    <tr>\n",
       "      <th>1</th>\n",
       "      <td>1</td>\n",
       "      <td>30000.0</td>\n",
       "      <td>100.0</td>\n",
       "      <td>39.0</td>\n",
       "      <td>1.414481</td>\n",
       "      <td>129.673072</td>\n",
       "      <td>0.044114</td>\n",
       "      <td>4.492422</td>\n",
       "    </tr>\n",
       "    <tr>\n",
       "      <th>2</th>\n",
       "      <td>2</td>\n",
       "      <td>30000.0</td>\n",
       "      <td>100.0</td>\n",
       "      <td>79.0</td>\n",
       "      <td>1.447287</td>\n",
       "      <td>220.873423</td>\n",
       "      <td>0.076453</td>\n",
       "      <td>9.250898</td>\n",
       "    </tr>\n",
       "    <tr>\n",
       "      <th>3</th>\n",
       "      <td>3</td>\n",
       "      <td>30000.0</td>\n",
       "      <td>100.0</td>\n",
       "      <td>118.0</td>\n",
       "      <td>1.572587</td>\n",
       "      <td>334.431311</td>\n",
       "      <td>0.121356</td>\n",
       "      <td>13.278210</td>\n",
       "    </tr>\n",
       "    <tr>\n",
       "      <th>4</th>\n",
       "      <td>4</td>\n",
       "      <td>30000.0</td>\n",
       "      <td>100.0</td>\n",
       "      <td>158.0</td>\n",
       "      <td>1.548282</td>\n",
       "      <td>398.966478</td>\n",
       "      <td>0.035504</td>\n",
       "      <td>9.262074</td>\n",
       "    </tr>\n",
       "    <tr>\n",
       "      <th>1</th>\n",
       "      <td>1</td>\n",
       "      <td>30000.0</td>\n",
       "      <td>100.0</td>\n",
       "      <td>2904.0</td>\n",
       "      <td>8.119054</td>\n",
       "      <td>11198.868399</td>\n",
       "      <td>0.063720</td>\n",
       "      <td>14.836103</td>\n",
       "    </tr>\n",
       "    <tr>\n",
       "      <th>2</th>\n",
       "      <td>2</td>\n",
       "      <td>30000.0</td>\n",
       "      <td>100.0</td>\n",
       "      <td>5809.0</td>\n",
       "      <td>15.554913</td>\n",
       "      <td>22029.632531</td>\n",
       "      <td>0.051898</td>\n",
       "      <td>29.276246</td>\n",
       "    </tr>\n",
       "    <tr>\n",
       "      <th>3</th>\n",
       "      <td>3</td>\n",
       "      <td>30000.0</td>\n",
       "      <td>100.0</td>\n",
       "      <td>8714.0</td>\n",
       "      <td>23.630745</td>\n",
       "      <td>32708.302141</td>\n",
       "      <td>0.093138</td>\n",
       "      <td>30.450918</td>\n",
       "    </tr>\n",
       "  </tbody>\n",
       "</table>\n",
       "</div>"
      ],
      "text/plain": [
       "   Unnamed: 0  photons  steps  scatterers  process runtime mean  \\\n",
       "0           0  30000.0  100.0         0.0              0.948301   \n",
       "0           0  30000.0  100.0         0.0              1.179117   \n",
       "1           1  30000.0  100.0        39.0              1.414481   \n",
       "2           2  30000.0  100.0        79.0              1.447287   \n",
       "3           3  30000.0  100.0       118.0              1.572587   \n",
       "4           4  30000.0  100.0       158.0              1.548282   \n",
       "1           1  30000.0  100.0      2904.0              8.119054   \n",
       "2           2  30000.0  100.0      5809.0             15.554913   \n",
       "3           3  30000.0  100.0      8714.0             23.630745   \n",
       "\n",
       "   actual runtime mean  process runtime std  actual runtime std  \n",
       "0            25.125826             0.017783            1.547199  \n",
       "0            42.627565             0.024759            0.153437  \n",
       "1           129.673072             0.044114            4.492422  \n",
       "2           220.873423             0.076453            9.250898  \n",
       "3           334.431311             0.121356           13.278210  \n",
       "4           398.966478             0.035504            9.262074  \n",
       "1         11198.868399             0.063720           14.836103  \n",
       "2         22029.632531             0.051898           29.276246  \n",
       "3         32708.302141             0.093138           30.450918  "
      ]
     },
     "execution_count": 6,
     "metadata": {},
     "output_type": "execute_result"
    }
   ],
   "source": [
    "df1.sort_values(by=['scatterers'])"
   ]
  },
  {
   "cell_type": "code",
   "execution_count": 12,
   "metadata": {},
   "outputs": [
    {
     "name": "stdout",
     "output_type": "stream",
     "text": [
      "[  3.77448913 -19.63000084] 0.9998669117677289\n"
     ]
    },
    {
     "data": {
      "image/png": "[encoded data removed]",
      "text/plain": [
       "<Figure size 432x288 with 1 Axes>"
      ]
     },
     "metadata": {
      "needs_background": "light"
     },
     "output_type": "display_data"
    }
   ],
   "source": [
    "fit_and_plot(df1['scatterers'], df1['actual runtime mean'], df1['actual runtime std'],\n",
    "             degree=1, xlabel='Number of scatterers', ylabel='CPU Time (s)',\n",
    "             title='CPU time vs. Number of scatterers', savefig=True)"
   ]
  },
  {
   "cell_type": "code",
   "execution_count": 8,
   "metadata": {},
   "outputs": [
    {
     "data": {
      "text/html": [
       "<div>\n",
       "<style scoped>\n",
       "    .dataframe tbody tr th:only-of-type {\n",
       "        vertical-align: middle;\n",
       "    }\n",
       "\n",
       "    .dataframe tbody tr th {\n",
       "        vertical-align: top;\n",
       "    }\n",
       "\n",
       "    .dataframe thead th {\n",
       "        text-align: right;\n",
       "    }\n",
       "</style>\n",
       "<table border=\"1\" class=\"dataframe\">\n",
       "  <thead>\n",
       "    <tr style=\"text-align: right;\">\n",
       "      <th></th>\n",
       "      <th>Unnamed: 0</th>\n",
       "      <th>photons</th>\n",
       "      <th>steps</th>\n",
       "      <th>scatterers</th>\n",
       "      <th>process runtime mean</th>\n",
       "      <th>actual runtime mean</th>\n",
       "      <th>process runtime std</th>\n",
       "      <th>actual runtime std</th>\n",
       "    </tr>\n",
       "  </thead>\n",
       "  <tbody>\n",
       "    <tr>\n",
       "      <th>0</th>\n",
       "      <td>0</td>\n",
       "      <td>1000</td>\n",
       "      <td>100.0</td>\n",
       "      <td>373.0</td>\n",
       "      <td>0.220762</td>\n",
       "      <td>30.467663</td>\n",
       "      <td>0.004026</td>\n",
       "      <td>0.142654</td>\n",
       "    </tr>\n",
       "    <tr>\n",
       "      <th>1</th>\n",
       "      <td>1</td>\n",
       "      <td>2154</td>\n",
       "      <td>100.0</td>\n",
       "      <td>373.0</td>\n",
       "      <td>0.277795</td>\n",
       "      <td>62.773296</td>\n",
       "      <td>0.002639</td>\n",
       "      <td>0.450117</td>\n",
       "    </tr>\n",
       "    <tr>\n",
       "      <th>2</th>\n",
       "      <td>2</td>\n",
       "      <td>4641</td>\n",
       "      <td>100.0</td>\n",
       "      <td>373.0</td>\n",
       "      <td>0.384313</td>\n",
       "      <td>135.491312</td>\n",
       "      <td>0.010132</td>\n",
       "      <td>0.375768</td>\n",
       "    </tr>\n",
       "    <tr>\n",
       "      <th>3</th>\n",
       "      <td>3</td>\n",
       "      <td>10000</td>\n",
       "      <td>100.0</td>\n",
       "      <td>373.0</td>\n",
       "      <td>0.630487</td>\n",
       "      <td>293.237997</td>\n",
       "      <td>0.021202</td>\n",
       "      <td>5.412189</td>\n",
       "    </tr>\n",
       "    <tr>\n",
       "      <th>4</th>\n",
       "      <td>4</td>\n",
       "      <td>21544</td>\n",
       "      <td>100.0</td>\n",
       "      <td>373.0</td>\n",
       "      <td>1.152979</td>\n",
       "      <td>630.165717</td>\n",
       "      <td>0.083615</td>\n",
       "      <td>16.528345</td>\n",
       "    </tr>\n",
       "    <tr>\n",
       "      <th>5</th>\n",
       "      <td>5</td>\n",
       "      <td>46415</td>\n",
       "      <td>100.0</td>\n",
       "      <td>373.0</td>\n",
       "      <td>2.346169</td>\n",
       "      <td>1363.545460</td>\n",
       "      <td>0.293002</td>\n",
       "      <td>50.267258</td>\n",
       "    </tr>\n",
       "    <tr>\n",
       "      <th>6</th>\n",
       "      <td>6</td>\n",
       "      <td>100000</td>\n",
       "      <td>100.0</td>\n",
       "      <td>373.0</td>\n",
       "      <td>5.350471</td>\n",
       "      <td>2919.305047</td>\n",
       "      <td>0.307617</td>\n",
       "      <td>94.643219</td>\n",
       "    </tr>\n",
       "  </tbody>\n",
       "</table>\n",
       "</div>"
      ],
      "text/plain": [
       "   Unnamed: 0  photons  steps  scatterers  process runtime mean  \\\n",
       "0           0     1000  100.0       373.0              0.220762   \n",
       "1           1     2154  100.0       373.0              0.277795   \n",
       "2           2     4641  100.0       373.0              0.384313   \n",
       "3           3    10000  100.0       373.0              0.630487   \n",
       "4           4    21544  100.0       373.0              1.152979   \n",
       "5           5    46415  100.0       373.0              2.346169   \n",
       "6           6   100000  100.0       373.0              5.350471   \n",
       "\n",
       "   actual runtime mean  process runtime std  actual runtime std  \n",
       "0            30.467663             0.004026            0.142654  \n",
       "1            62.773296             0.002639            0.450117  \n",
       "2           135.491312             0.010132            0.375768  \n",
       "3           293.237997             0.021202            5.412189  \n",
       "4           630.165717             0.083615           16.528345  \n",
       "5          1363.545460             0.293002           50.267258  \n",
       "6          2919.305047             0.307617           94.643219  "
      ]
     },
     "execution_count": 8,
     "metadata": {},
     "output_type": "execute_result"
    }
   ],
   "source": [
    "dir2 = ['varying_numphotons']\n",
    "df2 = open_runtimecsv(dir2)\n",
    "df2"
   ]
  },
  {
   "cell_type": "code",
   "execution_count": 13,
   "metadata": {},
   "outputs": [
    {
     "name": "stdout",
     "output_type": "stream",
     "text": [
      "[0.0292074  1.37074963] 0.9999917697985686\n"
     ]
    },
    {
     "data": {
      "image/png": "[encoded data removed]",
      "text/plain": [
       "<Figure size 432x288 with 1 Axes>"
      ]
     },
     "metadata": {
      "needs_background": "light"
     },
     "output_type": "display_data"
    }
   ],
   "source": [
    "fit_and_plot(df2['photons'], df2['actual runtime mean'], df2['actual runtime std'],\n",
    "             degree=1, xlabel='Number of photons', ylabel='CPU Time (s)',\n",
    "             title='CPU time vs. Number of photons', savefig=True)"
   ]
  },
  {
   "cell_type": "code",
   "execution_count": 10,
   "metadata": {},
   "outputs": [
    {
     "data": {
      "text/html": [
       "<div>\n",
       "<style scoped>\n",
       "    .dataframe tbody tr th:only-of-type {\n",
       "        vertical-align: middle;\n",
       "    }\n",
       "\n",
       "    .dataframe tbody tr th {\n",
       "        vertical-align: top;\n",
       "    }\n",
       "\n",
       "    .dataframe thead th {\n",
       "        text-align: right;\n",
       "    }\n",
       "</style>\n",
       "<table border=\"1\" class=\"dataframe\">\n",
       "  <thead>\n",
       "    <tr style=\"text-align: right;\">\n",
       "      <th></th>\n",
       "      <th>Unnamed: 0</th>\n",
       "      <th>photons</th>\n",
       "      <th>steps</th>\n",
       "      <th>scatterers</th>\n",
       "      <th>process runtime mean</th>\n",
       "      <th>actual runtime mean</th>\n",
       "      <th>process runtime std</th>\n",
       "      <th>actual runtime std</th>\n",
       "    </tr>\n",
       "  </thead>\n",
       "  <tbody>\n",
       "    <tr>\n",
       "      <th>0</th>\n",
       "      <td>0</td>\n",
       "      <td>30000.0</td>\n",
       "      <td>30</td>\n",
       "      <td>373.0</td>\n",
       "      <td>0.724806</td>\n",
       "      <td>295.622449</td>\n",
       "      <td>0.027966</td>\n",
       "      <td>8.858176</td>\n",
       "    </tr>\n",
       "    <tr>\n",
       "      <th>1</th>\n",
       "      <td>1</td>\n",
       "      <td>30000.0</td>\n",
       "      <td>50</td>\n",
       "      <td>373.0</td>\n",
       "      <td>1.032115</td>\n",
       "      <td>520.473412</td>\n",
       "      <td>0.072777</td>\n",
       "      <td>78.559382</td>\n",
       "    </tr>\n",
       "    <tr>\n",
       "      <th>2</th>\n",
       "      <td>2</td>\n",
       "      <td>30000.0</td>\n",
       "      <td>70</td>\n",
       "      <td>373.0</td>\n",
       "      <td>1.331308</td>\n",
       "      <td>677.091240</td>\n",
       "      <td>0.061372</td>\n",
       "      <td>15.696443</td>\n",
       "    </tr>\n",
       "    <tr>\n",
       "      <th>3</th>\n",
       "      <td>3</td>\n",
       "      <td>30000.0</td>\n",
       "      <td>90</td>\n",
       "      <td>373.0</td>\n",
       "      <td>1.853467</td>\n",
       "      <td>923.721717</td>\n",
       "      <td>0.123516</td>\n",
       "      <td>19.146634</td>\n",
       "    </tr>\n",
       "    <tr>\n",
       "      <th>4</th>\n",
       "      <td>4</td>\n",
       "      <td>30000.0</td>\n",
       "      <td>110</td>\n",
       "      <td>373.0</td>\n",
       "      <td>2.442492</td>\n",
       "      <td>1188.583689</td>\n",
       "      <td>0.192893</td>\n",
       "      <td>54.861449</td>\n",
       "    </tr>\n",
       "  </tbody>\n",
       "</table>\n",
       "</div>"
      ],
      "text/plain": [
       "   Unnamed: 0  photons  steps  scatterers  process runtime mean  \\\n",
       "0           0  30000.0     30       373.0              0.724806   \n",
       "1           1  30000.0     50       373.0              1.032115   \n",
       "2           2  30000.0     70       373.0              1.331308   \n",
       "3           3  30000.0     90       373.0              1.853467   \n",
       "4           4  30000.0    110       373.0              2.442492   \n",
       "\n",
       "   actual runtime mean  process runtime std  actual runtime std  \n",
       "0           295.622449             0.027966            8.858176  \n",
       "1           520.473412             0.072777           78.559382  \n",
       "2           677.091240             0.061372           15.696443  \n",
       "3           923.721717             0.123516           19.146634  \n",
       "4          1188.583689             0.192893           54.861449  "
      ]
     },
     "execution_count": 10,
     "metadata": {},
     "output_type": "execute_result"
    }
   ],
   "source": [
    "dir3 = ['tradeoffs_stepsizeparam']\n",
    "df3 = open_runtimecsv(dir3)\n",
    "df3"
   ]
  },
  {
   "cell_type": "code",
   "execution_count": 14,
   "metadata": {},
   "outputs": [
    {
     "name": "stdout",
     "output_type": "stream",
     "text": [
      "[ 10.94585392 -45.11127283] 0.9926087039719732\n"
     ]
    },
    {
     "data": {
      "image/png": "[encoded data removed]",
      "text/plain": [
       "<Figure size 432x288 with 1 Axes>"
      ]
     },
     "metadata": {
      "needs_background": "light"
     },
     "output_type": "display_data"
    }
   ],
   "source": [
    "fit_and_plot(df3['steps'], df3['actual runtime mean'], df3['actual runtime std'],\n",
    "             degree=1, xlabel='Number of photon steps', ylabel='CPU Time (s)',\n",
    "             title='CPU time vs. Number of photons steps', savefig=True)"
   ]
  },
  {
   "cell_type": "code",
   "execution_count": 20,
   "metadata": {},
   "outputs": [
    {
     "name": "stdout",
     "output_type": "stream",
     "text": [
      "[ 0.02128362 -0.01301574] 0.9747817196570177\n"
     ]
    },
    {
     "data": {
      "image/png": "[encoded data removed]",
      "text/plain": [
       "<Figure size 432x288 with 1 Axes>"
      ]
     },
     "metadata": {
      "needs_background": "light"
     },
     "output_type": "display_data"
    }
   ],
   "source": [
    "fit_and_plot(df3['steps'], df3['process runtime mean'], df3['process runtime std'],\n",
    "             degree=1, xlabel='Number of photon steps', ylabel='CPU Time (s)', title='')"
   ]
  },
  {
   "cell_type": "markdown",
   "metadata": {},
   "source": [
    "Proposed cost function:\n",
    "\\begin{equation}\n",
    "    C = (\\alpha x + \\alpha_0) (\\beta y + \\beta_0) (\\gamma x + \\gamma_0)\n",
    "\\end{equation}"
   ]
  },
  {
   "cell_type": "code",
   "execution_count": null,
   "metadata": {},
   "outputs": [],
   "source": []
  }
 ],
 "metadata": {
  "kernelspec": {
   "display_name": "Python 3",
   "language": "python",
   "name": "python3"
  },
  "language_info": {
   "codemirror_mode": {
    "name": "ipython",
    "version": 3
   },
   "file_extension": ".py",
   "mimetype": "text/x-python",
   "name": "python",
   "nbconvert_exporter": "python",
   "pygments_lexer": "ipython3",
   "version": "3.7.0"
  }
 },
 "nbformat": 4,
 "nbformat_minor": 2
}
